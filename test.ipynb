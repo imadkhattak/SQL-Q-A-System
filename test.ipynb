{
 "cells": [
  {
   "cell_type": "code",
   "execution_count": 1,
   "id": "c28fa47c",
   "metadata": {},
   "outputs": [
    {
     "name": "stdout",
     "output_type": "stream",
     "text": [
      "{\"id\":\"chatcmpl-Rw9K3IQaR6UdocdH1ZL4TgaO\",\"object\":\"chat.completion\",\"created\":1751220004,\"model\":\"llama-3.1-405b\",\"choices\":[{\"index\":0,\"message\":{\"role\":\"assistant\",\"content\":\"The answer is not 9, as one might initially think.\\n\\nThe correct answer is \\\"none\\\"!\\n\\nWhen the hunter shoots one bird, the loud noise from the gunshot would likely scare the remaining birds, causing them to fly away. So, there would be no birds left in the tree!\\n\\nAm I correct?\",\"name\":null,\"tool_calls\":null},\"finish_reason\":\"stop\",\"logprobs\":null}],\"usage\":{\"prompt_tokens\":31,\"total_tokens\":94,\"completion_tokens\":63,\"estimated_cost\":0.00007520000000000001}}\n"
     ]
    }
   ],
   "source": [
    "import http.client\n",
    "\n",
    "conn = http.client.HTTPSConnection(\"meta-llama-3-1-405b.p.rapidapi.com\")\n",
    "\n",
    "payload = \"{\\\"model\\\":\\\"llama-3.1-405b\\\",\\\"messages\\\":[{\\\"role\\\":\\\"user\\\",\\\"content\\\":\\\"There are ten birds in a tree. A hunter shoots one. How many are left in the tree?\\\"}]}\"\n",
    "\n",
    "headers = {\n",
    "    'x-rapidapi-key': \"fde06121d3mshe6bff8103aecc6ep1a31b0jsn33cb4b46f2c0\",\n",
    "    'x-rapidapi-host': \"meta-llama-3-1-405b.p.rapidapi.com\",\n",
    "    'Content-Type': \"application/json\"\n",
    "}\n",
    "\n",
    "conn.request(\"POST\", \"/\", payload, headers)\n",
    "\n",
    "res = conn.getresponse()\n",
    "data = res.read()\n",
    "\n",
    "print(data.decode(\"utf-8\"))"
   ]
  },
  {
   "cell_type": "code",
   "execution_count": null,
   "id": "233b8a8b",
   "metadata": {},
   "outputs": [],
   "source": []
  }
 ],
 "metadata": {
  "kernelspec": {
   "display_name": "Python 3",
   "language": "python",
   "name": "python3"
  },
  "language_info": {
   "codemirror_mode": {
    "name": "ipython",
    "version": 3
   },
   "file_extension": ".py",
   "mimetype": "text/x-python",
   "name": "python",
   "nbconvert_exporter": "python",
   "pygments_lexer": "ipython3",
   "version": "3.9.11"
  }
 },
 "nbformat": 4,
 "nbformat_minor": 5
}
